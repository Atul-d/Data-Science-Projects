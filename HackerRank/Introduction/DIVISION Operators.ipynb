{
 "cells": [
  {
   "cell_type": "markdown",
   "id": "581461ef",
   "metadata": {},
   "source": [
    "**Task ==** The provided code stub reads two integers, a and b, from STDIN. Add logic to print two lines. <br>\n",
    " - The first line should contain the result of integer division, a // b. \n",
    " - The second line should contain the result of float division, a / b.\n",
    " - No rounding or formatting is necessary."
   ]
  },
  {
   "cell_type": "code",
   "execution_count": 1,
   "id": "c26a3751",
   "metadata": {},
   "outputs": [
    {
     "name": "stdout",
     "output_type": "stream",
     "text": [
      "Enter First Number: 18\n",
      "Enter Second Number: 3\n",
      "\n",
      "\u001b[1mINTEGER DIVISION OF 2 NUMBER:\u001b[0m 6\n",
      "\u001b[1mFLOATING DIVISION OF 2 NUMBER:\u001b[0m 6.0\n"
     ]
    }
   ],
   "source": [
    "a = int(input(\"Enter First Number: \"))\n",
    "b = int(input(\"Enter Second Number: \"))\n",
    "print()\n",
    "\n",
    "print(\"\\033[1m\" + \"INTEGER DIVISION OF 2 NUMBER:\" + \"\\033[0m\",a // b)\n",
    "print(\"\\033[1m\" + \"FLOATING DIVISION OF 2 NUMBER:\" + \"\\033[0m\",a / b)"
   ]
  },
  {
   "cell_type": "code",
   "execution_count": 2,
   "id": "4f1b30e8",
   "metadata": {},
   "outputs": [
    {
     "name": "stdout",
     "output_type": "stream",
     "text": [
      "18\n",
      "6\n",
      "3\n",
      "3.0\n"
     ]
    }
   ],
   "source": [
    "a = int(input())\n",
    "b = int(input())\n",
    "\n",
    "print(a//b)\n",
    "print(a/b)"
   ]
  },
  {
   "cell_type": "code",
   "execution_count": null,
   "id": "77993483",
   "metadata": {},
   "outputs": [],
   "source": []
  }
 ],
 "metadata": {
  "kernelspec": {
   "display_name": "Python 3 (ipykernel)",
   "language": "python",
   "name": "python3"
  },
  "language_info": {
   "codemirror_mode": {
    "name": "ipython",
    "version": 3
   },
   "file_extension": ".py",
   "mimetype": "text/x-python",
   "name": "python",
   "nbconvert_exporter": "python",
   "pygments_lexer": "ipython3",
   "version": "3.9.7"
  }
 },
 "nbformat": 4,
 "nbformat_minor": 5
}
