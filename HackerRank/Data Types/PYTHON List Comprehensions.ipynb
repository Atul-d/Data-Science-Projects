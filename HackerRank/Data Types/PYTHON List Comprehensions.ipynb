{
 "cells": [
  {
   "cell_type": "markdown",
   "id": "5b1a3285",
   "metadata": {},
   "source": [
    "**TASK ==** \n",
    " - Let's learn about list comprehensions! \n",
    " - You are given three integers x, y and z representing the dimensions of a cuboid along with an integer n. \n",
    " - Print a list of all possible coordinates given by (i, j, k) on a 3D grid where the sum of i+j+k is not equal to n. \n",
    " - Here, 0 <= i <= x, 0 <= j <= y, 0 <= k <= z, .Please use list comprehensions rather than multiple loops, as a learning exercise."
   ]
  },
  {
   "cell_type": "code",
   "execution_count": 2,
   "id": "81b8c774",
   "metadata": {},
   "outputs": [
    {
     "name": "stdout",
     "output_type": "stream",
     "text": [
      "Enter total number: 3\n",
      "Enter first number: 1\n",
      "Enter second number: 1\n",
      "Enter third number: 2\n",
      "[[0, 0, 0], [0, 0, 1], [0, 0, 2], [0, 1, 0], [0, 1, 1], [1, 0, 0], [1, 0, 1], [1, 1, 0], [1, 1, 2]]\n"
     ]
    }
   ],
   "source": [
    "n = int(input(\"Enter total number: \"))\n",
    "x = int(input(\"Enter first number: \"))\n",
    "y = int(input(\"Enter second number: \"))\n",
    "z = int(input(\"Enter third number: \"))\n",
    "\n",
    "comprehensions = [[i, j, k] for i in range(x + 1) for j in range(y + 1) for k in range(z + 1) if i + j + k != n]\n",
    "print(comprehensions)       "
   ]
  },
  {
   "cell_type": "raw",
   "id": "5f0c4418",
   "metadata": {},
   "source": []
  }
 ],
 "metadata": {
  "kernelspec": {
   "display_name": "Python 3 (ipykernel)",
   "language": "python",
   "name": "python3"
  },
  "language_info": {
   "codemirror_mode": {
    "name": "ipython",
    "version": 3
   },
   "file_extension": ".py",
   "mimetype": "text/x-python",
   "name": "python",
   "nbconvert_exporter": "python",
   "pygments_lexer": "ipython3",
   "version": "3.9.7"
  }
 },
 "nbformat": 4,
 "nbformat_minor": 5
}
