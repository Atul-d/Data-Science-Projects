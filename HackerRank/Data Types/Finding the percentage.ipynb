{
 "cells": [
  {
   "cell_type": "markdown",
   "id": "5306d055",
   "metadata": {},
   "source": [
    "**TASK ==** The provided code stub will read in a dictionary containing key/value pairs of name:[marks] for a list of students. Print the average of the marks array for the student name provided, showing 2 places after the decimal."
   ]
  },
  {
   "cell_type": "code",
   "execution_count": 1,
   "id": "5d50e0dd",
   "metadata": {},
   "outputs": [
    {
     "name": "stdout",
     "output_type": "stream",
     "text": [
      "3\n",
      "Atul 50 50 50\n",
      "Divyash 40 40 40\n",
      "Chinmay 90 90 90\n",
      "Divyash\n",
      "40.00\n"
     ]
    }
   ],
   "source": [
    "def readScores(listOfStudents):\n",
    "    line = list(input().split())\n",
    "    avScore = sum(map(float, line[1:])) / 3\n",
    "    name = line[0]\n",
    "    listOfStudents[name] = avScore\n",
    "\n",
    "\n",
    "n = int(input())\n",
    "listOfStudents = dict()\n",
    "for i in range(n):\n",
    "    readScores(listOfStudents)\n",
    "print('%.2f' % listOfStudents[input()])"
   ]
  },
  {
   "cell_type": "code",
   "execution_count": null,
   "id": "3f35fc79",
   "metadata": {},
   "outputs": [],
   "source": []
  }
 ],
 "metadata": {
  "kernelspec": {
   "display_name": "Python 3 (ipykernel)",
   "language": "python",
   "name": "python3"
  },
  "language_info": {
   "codemirror_mode": {
    "name": "ipython",
    "version": 3
   },
   "file_extension": ".py",
   "mimetype": "text/x-python",
   "name": "python",
   "nbconvert_exporter": "python",
   "pygments_lexer": "ipython3",
   "version": "3.9.7"
  }
 },
 "nbformat": 4,
 "nbformat_minor": 5
}
