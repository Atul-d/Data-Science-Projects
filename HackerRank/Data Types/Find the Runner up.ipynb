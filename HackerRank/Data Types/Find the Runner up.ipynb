{
 "cells": [
  {
   "cell_type": "markdown",
   "id": "00dca5ee",
   "metadata": {},
   "source": [
    "**TASK ==** Given the participants' score sheet for your University Sports Day, you are required to find the runner-up score. You are given n scores. Store them in a list and find the score of the runner-up."
   ]
  },
  {
   "cell_type": "code",
   "execution_count": 1,
   "id": "61cd6b2d",
   "metadata": {},
   "outputs": [
    {
     "name": "stdout",
     "output_type": "stream",
     "text": [
      "Enter total number: 5\n",
      "5 4 9 8 1\n",
      "8\n"
     ]
    }
   ],
   "source": [
    "n = int(input(\"Enter total number: \"))\n",
    "arr = list(map(int, input().split()))\n",
    "\n",
    "print(max([x for x in arr if x != max(arr)]))"
   ]
  },
  {
   "cell_type": "code",
   "execution_count": null,
   "id": "0d652c9b",
   "metadata": {},
   "outputs": [],
   "source": []
  }
 ],
 "metadata": {
  "kernelspec": {
   "display_name": "Python 3 (ipykernel)",
   "language": "python",
   "name": "python3"
  },
  "language_info": {
   "codemirror_mode": {
    "name": "ipython",
    "version": 3
   },
   "file_extension": ".py",
   "mimetype": "text/x-python",
   "name": "python",
   "nbconvert_exporter": "python",
   "pygments_lexer": "ipython3",
   "version": "3.9.7"
  }
 },
 "nbformat": 4,
 "nbformat_minor": 5
}
