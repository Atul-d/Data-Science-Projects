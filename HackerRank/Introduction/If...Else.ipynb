{
 "cells": [
  {
   "cell_type": "markdown",
   "id": "20567f9b",
   "metadata": {},
   "source": [
    "**Task: -->** Given an integer, n, perform the following conditional actions:\n",
    " - If n is odd, print Weird\n",
    " - If n is even and in the inclusive range of 2 to 5, print Not Weird\n",
    " - If n is even and in the inclusive range of 6 to 20, print Weird\n",
    " - If n is even and greater than 20, print Not Weird"
   ]
  },
  {
   "cell_type": "code",
   "execution_count": 16,
   "id": "d7afea6c",
   "metadata": {},
   "outputs": [
    {
     "name": "stdout",
     "output_type": "stream",
     "text": [
      "Enter a Number: 24\n",
      "\u001b[1mNot Weird\u001b[0m\n"
     ]
    }
   ],
   "source": [
    "n = int(input(\"Enter a Number: \"))\n",
    "\n",
    "if n % 2 != 0:\n",
    "    print(\"\\033[1m\" + \"Weird\" + \"\\033[0m\")\n",
    "else:\n",
    "    if n in range(2, 6):\n",
    "        print(\"\\033[1m\" + \"Not Weird\" + \"\\033[0m\")\n",
    "    if n in range(6, 21):\n",
    "        print(\"\\033[1m\" + \"Weird\" + \"\\033[om\")\n",
    "    if n > 20:\n",
    "        print(\"\\033[1m\" + \"Not Weird\" + \"\\033[0m\")"
   ]
  },
  {
   "cell_type": "code",
   "execution_count": 17,
   "id": "278df6e3",
   "metadata": {},
   "outputs": [
    {
     "name": "stdout",
     "output_type": "stream",
     "text": [
      "24\n",
      "Not Weird\n"
     ]
    }
   ],
   "source": [
    "n = int(input())\n",
    "\n",
    "if(n%2 != 0):\n",
    "    print(\"Weird\")\n",
    "else:\n",
    "    if(n>=2 and n<=5):\n",
    "        print(\"Not Weird\")\n",
    "    elif(n>=6 and n<=20):\n",
    "        print(\"Weird\")\n",
    "    else:\n",
    "        print(\"Not Weird\")"
   ]
  },
  {
   "cell_type": "code",
   "execution_count": null,
   "id": "ebf0fc78",
   "metadata": {},
   "outputs": [],
   "source": []
  }
 ],
 "metadata": {
  "kernelspec": {
   "display_name": "Python 3 (ipykernel)",
   "language": "python",
   "name": "python3"
  },
  "language_info": {
   "codemirror_mode": {
    "name": "ipython",
    "version": 3
   },
   "file_extension": ".py",
   "mimetype": "text/x-python",
   "name": "python",
   "nbconvert_exporter": "python",
   "pygments_lexer": "ipython3",
   "version": "3.9.7"
  }
 },
 "nbformat": 4,
 "nbformat_minor": 5
}
