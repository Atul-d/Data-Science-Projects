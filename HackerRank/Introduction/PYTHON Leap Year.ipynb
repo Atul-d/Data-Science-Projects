{
 "cells": [
  {
   "cell_type": "markdown",
   "id": "f65b0f21",
   "metadata": {},
   "source": [
    "**Task ==** \n",
    " - Given a year, determine whether it is a leap year. \n",
    " - If it is a leap year, return the Boolean True, otherwise return False.\n",
    " - Note that the code stub provided reads from STDIN and passes arguments to the is_leap function. \n",
    " - It is only necessary to complete the is_leap function."
   ]
  },
  {
   "cell_type": "code",
   "execution_count": 2,
   "id": "2b1f204c",
   "metadata": {},
   "outputs": [
    {
     "name": "stdout",
     "output_type": "stream",
     "text": [
      "2004\n",
      "True\n"
     ]
    }
   ],
   "source": [
    "def is_leap(year):\n",
    "    leap = False\n",
    "    if(year%100 == 0):\n",
    "        if(year%400 == 0):\n",
    "            leap = True\n",
    "    else:\n",
    "        if(year%4 == 0):\n",
    "            leap = True    \n",
    "    return leap\n",
    "\n",
    "\n",
    "year = int(input())\n",
    "print(is_leap(year))"
   ]
  },
  {
   "cell_type": "code",
   "execution_count": null,
   "id": "5acc9b1a",
   "metadata": {},
   "outputs": [],
   "source": []
  }
 ],
 "metadata": {
  "kernelspec": {
   "display_name": "Python 3 (ipykernel)",
   "language": "python",
   "name": "python3"
  },
  "language_info": {
   "codemirror_mode": {
    "name": "ipython",
    "version": 3
   },
   "file_extension": ".py",
   "mimetype": "text/x-python",
   "name": "python",
   "nbconvert_exporter": "python",
   "pygments_lexer": "ipython3",
   "version": "3.9.7"
  }
 },
 "nbformat": 4,
 "nbformat_minor": 5
}
