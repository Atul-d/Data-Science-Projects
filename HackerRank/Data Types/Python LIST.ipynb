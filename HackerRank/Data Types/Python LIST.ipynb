{
 "cells": [
  {
   "cell_type": "markdown",
   "id": "e5d364d6",
   "metadata": {},
   "source": [
    "**TASK ==** Consider a list (list = []). You can perform the following commands:\n",
    " - insert i e: Insert integer e at position i.\n",
    " - print: Print the list.\n",
    " - remove e: Delete the first occurrence of integer e.\n",
    " - append e: Insert integer e at the end of the list.\n",
    " - sort: Sort the list.\n",
    " - pop: Pop the last element from the list.\n",
    " - reverse: Reverse the list.<br>\n",
    " \n",
    "Initialize your list and read in the value of n followed by n lines of commands where each command will be of the 7 types listed above. Iterate through each command in order and perform the corresponding operation on your list."
   ]
  },
  {
   "cell_type": "code",
   "execution_count": 7,
   "id": "7402929d",
   "metadata": {},
   "outputs": [
    {
     "name": "stdout",
     "output_type": "stream",
     "text": [
      "Enter total function to be used in the List: 12\n",
      "insert 1 5\n",
      "insert 1 10\n",
      "insert 0 9\n",
      "print\n",
      "[9, 5, 10]\n",
      "remove 5\n",
      "append6\n",
      "append 9\n",
      "print\n",
      "[9, 10, 9]\n",
      "sort\n",
      "print\n",
      "[9, 9, 10]\n",
      "pop\n",
      "print\n",
      "[9, 9]\n"
     ]
    }
   ],
   "source": [
    "N = int(input(\"Enter total function to be used in the List: \"))\n",
    "\n",
    "arr = []\n",
    "\n",
    "for i in range(N):\n",
    "    command = input().strip().split(\" \")\n",
    "    \n",
    "    func1 = command[0]\n",
    "    \n",
    "    if (func1 == \"print\"):\n",
    "        print(arr)\n",
    "    elif (func1 == \"sort\"):\n",
    "        arr.sort()\n",
    "    elif (func1 == 'reverse'):\n",
    "        arr.reverse()\n",
    "    elif (func1 == \"pop\"):\n",
    "        arr.pop()\n",
    "    elif (func1 == \"remove\"):\n",
    "        arr.remove(int(command[1]))\n",
    "    elif (func1 == \"append\"):\n",
    "        arr.append(int(command[1]))\n",
    "    elif (func1 == \"insert\"):\n",
    "        arr.insert(int(command[1]), int(command[2]))"
   ]
  }
 ],
 "metadata": {
  "kernelspec": {
   "display_name": "Python 3 (ipykernel)",
   "language": "python",
   "name": "python3"
  },
  "language_info": {
   "codemirror_mode": {
    "name": "ipython",
    "version": 3
   },
   "file_extension": ".py",
   "mimetype": "text/x-python",
   "name": "python",
   "nbconvert_exporter": "python",
   "pygments_lexer": "ipython3",
   "version": "3.9.7"
  }
 },
 "nbformat": 4,
 "nbformat_minor": 5
}
