{
 "cells": [
  {
   "cell_type": "markdown",
   "id": "aa52f5fc",
   "metadata": {},
   "source": [
    "**TASK ==** The provided code stub reads two integers from STDIN, a and b. Add code to print three lines where:\n",
    " - The first line contains the sum of the two numbers.\n",
    " - The second line contains the difference of the two numbers (first - second).\n",
    " - The third line contains the product of the two numbers."
   ]
  },
  {
   "cell_type": "code",
   "execution_count": 4,
   "id": "d77163fc",
   "metadata": {},
   "outputs": [
    {
     "name": "stdout",
     "output_type": "stream",
     "text": [
      "Enter First Number: 4\n",
      "Enter Second Number: 4\n",
      "\n",
      "\u001b[1mSUM OF 2 NUMBER:\u001b[0m 8\n",
      "\u001b[1mSUBTRACTION OF 2 NUMBER:\u001b[0m 0\n",
      "\u001b[1mPRODUCT OF 2 NUMBER:\u001b[0m 16\n"
     ]
    }
   ],
   "source": [
    "a = int(input(\"Enter First Number: \"))\n",
    "b = int(input(\"Enter Second Number: \"))\n",
    "print()\n",
    "\n",
    "print(\"\\033[1m\" + \"SUM OF 2 NUMBER:\" + \"\\033[0m\",a + b)\n",
    "print(\"\\033[1m\" + \"SUBTRACTION OF 2 NUMBER:\" + \"\\033[0m\",a - b)\n",
    "print(\"\\033[1m\" + \"PRODUCT OF 2 NUMBER:\" + \"\\033[0m\",a * b)"
   ]
  },
  {
   "cell_type": "code",
   "execution_count": 5,
   "id": "e11a5e86",
   "metadata": {},
   "outputs": [
    {
     "name": "stdout",
     "output_type": "stream",
     "text": [
      "4\n",
      "4\n",
      "8\n",
      "0\n",
      "16\n"
     ]
    }
   ],
   "source": [
    "a = int(input())\n",
    "b = int(input())\n",
    "\n",
    "print(a+b)\n",
    "print(a-b)\n",
    "print(a*b)"
   ]
  },
  {
   "cell_type": "code",
   "execution_count": null,
   "id": "c0a745a2",
   "metadata": {},
   "outputs": [],
   "source": []
  }
 ],
 "metadata": {
  "kernelspec": {
   "display_name": "Python 3 (ipykernel)",
   "language": "python",
   "name": "python3"
  },
  "language_info": {
   "codemirror_mode": {
    "name": "ipython",
    "version": 3
   },
   "file_extension": ".py",
   "mimetype": "text/x-python",
   "name": "python",
   "nbconvert_exporter": "python",
   "pygments_lexer": "ipython3",
   "version": "3.9.7"
  }
 },
 "nbformat": 4,
 "nbformat_minor": 5
}
