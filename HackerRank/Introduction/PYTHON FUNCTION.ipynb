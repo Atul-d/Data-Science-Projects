{
 "cells": [
  {
   "cell_type": "markdown",
   "id": "5bfd92e6",
   "metadata": {},
   "source": [
    "**TASK ==** \n",
    " - The included code stub will read an integer, n, from STDIN.\n",
    " - Without using any string methods, try to print the following 123...n:\n",
    " - Note that \"...\" represents the consecutive values in between.\n",
    " - Example: n = 5, Print the string 12345."
   ]
  },
  {
   "cell_type": "code",
   "execution_count": 1,
   "id": "e5dd7d08",
   "metadata": {},
   "outputs": [
    {
     "name": "stdout",
     "output_type": "stream",
     "text": [
      "Enter a Number: 7\n",
      "1234567"
     ]
    }
   ],
   "source": [
    "n = int(input(\"Enter a Number: \"))\n",
    "\n",
    "for i in range(1, n + 1):\n",
    "    print(i, end='')"
   ]
  },
  {
   "cell_type": "code",
   "execution_count": null,
   "id": "ff946f33",
   "metadata": {},
   "outputs": [],
   "source": []
  }
 ],
 "metadata": {
  "kernelspec": {
   "display_name": "Python 3 (ipykernel)",
   "language": "python",
   "name": "python3"
  },
  "language_info": {
   "codemirror_mode": {
    "name": "ipython",
    "version": 3
   },
   "file_extension": ".py",
   "mimetype": "text/x-python",
   "name": "python",
   "nbconvert_exporter": "python",
   "pygments_lexer": "ipython3",
   "version": "3.9.7"
  }
 },
 "nbformat": 4,
 "nbformat_minor": 5
}
